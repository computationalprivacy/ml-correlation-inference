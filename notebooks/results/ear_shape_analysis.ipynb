{
 "cells": [
  {
   "cell_type": "markdown",
   "id": "pending-state",
   "metadata": {},
   "source": [
    "# Ear shape analysis\n",
    "\n",
    "What is the shape of the space covered by $(cos \\theta_1, cos \\theta_2)$ in the following two scenarios:\n",
    "\n",
    "Scenario 1 (negative bin). $-1 \\leq cos (\\theta_1 + \\theta_2) \\leq \\cos (\\theta_1 - \\theta_2) \\leq -\\frac{1}{3}$\n",
    "\n",
    "Scenario 2 (low bin). $-\\frac{1}{3} \\leq cos (\\theta_1 + \\theta_2) \\leq \\cos (\\theta_1 - \\theta_2) \\leq \\frac{1}{3}$\n",
    "\n",
    "Scenario 3 (positive bin). $\\frac{1}{3} \\leq cos (\\theta_1 + \\theta_2) \\leq \\cos (\\theta_1 - \\theta_2) \\leq 1$\n",
    "\n",
    "Note: we assume that $0 \\leq \\theta_1, \\theta_2 \\leq \\pi$, so that $cos (\\theta_1 + \\theta_2) \\leq \\cos (\\theta_1 - \\theta_2)$ always holds."
   ]
  },
  {
   "cell_type": "markdown",
   "id": "subjective-airfare",
   "metadata": {},
   "source": [
    "# Scenario 1\n",
    "\n",
    "As $-1 \\leq cos (\\theta_1 + \\theta_2)$ always holds, the only relevant constraint here is $\\cos (\\theta_1 - \\theta_2) \\leq -\\frac{1}{3}$.\n",
    "\n",
    "This is equivalent to $\\theta_1 - \\theta_2 \\geq \\arccos (-\\frac{1}{3})$ if $\\theta_1 \\geq \\theta_2$ and $\\theta_2 - \\theta_1 \\geq \\arccos (-\\frac{1}{3})$ otherwise."
   ]
  },
  {
   "cell_type": "code",
   "execution_count": 1,
   "id": "square-macedonia",
   "metadata": {},
   "outputs": [],
   "source": [
    "import math\n",
    "import matplotlib.pyplot as plt\n",
    "import numpy as np\n",
    "\n",
    "x_neg1, y_neg1 = [], []\n",
    "x_neg2, y_neg2 = [], []\n",
    "\n",
    "for theta1 in np.linspace(math.acos(-1/3), math.pi, 100):\n",
    "    for theta2 in np.linspace(0, theta1 - math.acos(-1/3), 100):\n",
    "        x_neg1.append(math.cos(theta1))\n",
    "        y_neg1.append(math.cos(theta2))\n",
    "        \n",
    "for theta2 in np.linspace(math.acos(-1/3), math.pi, 100):\n",
    "    for theta1 in np.linspace(0, theta2 - math.acos(-1/3), 100):\n",
    "        x_neg2.append(math.cos(theta1))\n",
    "        y_neg2.append(math.cos(theta2))"
   ]
  },
  {
   "cell_type": "markdown",
   "id": "private-joyce",
   "metadata": {},
   "source": [
    "# Scenario 2\n",
    "\n",
    "In this scenario, we distinguish four cases:\n",
    "\n",
    "1. $\\theta_1 \\geq \\theta_2$ and $0 \\leq \\theta_1 + \\theta_2 \\leq \\pi$. \n",
    "\n",
    "The inequalities are equivalent to $\\theta_1 + \\theta_2 \\leq \\arccos \\big(-\\frac{1}{3}\\big)$ and $\\theta_1 - \\theta_2 \\geq \\arccos \\big(\\frac{1}{3}\\big)$\n",
    "\n",
    "This amounts to having $\\theta_1$ range from $\\arccos \\big(\\frac{1}{3}\\big)$ to $\\arccos \\big(-\\frac{1}{3}\\big)$.\n",
    "\n",
    "For each value of $\\theta_1$, $\\theta_2$ can range from $0$ to $\\min \\Big(\\arccos \\big(-\\frac{1}{3}\\big) - \\theta_1, \\theta_1 - \\arccos \\big(\\frac{1}{3}\\big) \\Big)$.\n",
    "\n",
    "2. $\\theta_1 < \\theta_2$ and $0 \\leq \\theta_1 + \\theta_2 \\leq \\pi$. \n",
    "\n",
    "The inequalities are equivalent to $\\theta_1 + \\theta_2 \\leq \\arccos \\big(-\\frac{1}{3}\\big)$ and $\\theta_2 - \\theta_1 \\geq \\arccos \\big(\\frac{1}{3}\\big)$\n",
    "\n",
    "3. $\\theta_1 \\geq \\theta_2$ and $\\pi \\leq \\theta_1 + \\theta_2 \\leq 2*\\pi$. \n",
    "\n",
    "The inequalities are equivalent to $\\theta_1 + \\theta_2 \\geq \\pi + \\arccos \\big(\\frac{1}{3} \\big)$ and $\\theta_1 - \\theta_2 \\geq \\arccos \\big(\\frac{1}{3} \\big)$.\n",
    "\n",
    "This amounts to having $\\theta_1$ range from $\\frac{\\pi}{2} + \\arccos \\big( \\frac{1}{3} \\big)$ to $\\pi$ and $\\theta_2$ from $\\pi + \\arccos \\big( \\frac{1}{3} \\big) - \\theta_1$ to $\\theta_1 - \\arccos \\big( \\frac{1}{3} \\big)$.\n",
    "\n",
    "4. $\\theta_1 < \\theta_2$ and $\\pi \\leq \\theta_1 + \\theta_2 \\leq 2*\\pi$."
   ]
  },
  {
   "cell_type": "code",
   "execution_count": 2,
   "id": "dying-robertson",
   "metadata": {},
   "outputs": [],
   "source": [
    "x_low1, y_low1 = [], []\n",
    "\n",
    "for theta1 in np.linspace(math.acos(1/3), math.acos(-1/3), 100):\n",
    "    for theta2 in np.linspace(0, min(theta1 - math.acos(1/3), math.acos(-1/3)-theta1), 100):\n",
    "        x_low1.append(math.cos(theta1))\n",
    "        y_low1.append(math.cos(theta2))\n",
    "        \n",
    "x_low2, y_low2 = [], []\n",
    "\n",
    "for theta2 in np.linspace(math.acos(1/3), math.acos(-1/3), 100):\n",
    "    for theta1 in np.linspace(0, min(theta2 - math.acos(1/3), math.acos(-1/3)-theta2), 100):\n",
    "        x_low2.append(math.cos(theta1))\n",
    "        y_low2.append(math.cos(theta2))\n",
    "        \n",
    "x_low3, y_low3 = [], []\n",
    "\n",
    "for theta1 in np.linspace(math.acos(1/3) + math.pi/2, math.pi, 100):\n",
    "    for theta2 in np.linspace(math.pi + math.acos(1/3) - theta1, theta1 - math.acos(1/3), 100):\n",
    "        x_low3.append(math.cos(theta1))\n",
    "        y_low3.append(math.cos(theta2))\n",
    "        \n",
    "x_low4, y_low4 = [], []\n",
    "\n",
    "for theta2 in np.linspace(math.acos(1/3) + math.pi/2, math.pi, 100):\n",
    "    for theta1 in np.linspace(math.pi + math.acos(1/3) - theta2, theta2 - math.acos(1/3), 100):\n",
    "        x_low4.append(math.cos(theta1))\n",
    "        y_low4.append(math.cos(theta2))"
   ]
  },
  {
   "cell_type": "markdown",
   "id": "limited-commander",
   "metadata": {},
   "source": [
    "# Scenario 3\n",
    "\n",
    "As $cos (\\theta_1 - \\theta_2) \\leq 1$ always holds, the only relevant constraint here is $\\frac{1}{3} \\leq \\cos (\\theta_1 + \\theta_2)$.\n",
    "\n",
    "This is equivalent to $\\theta_1 + \\theta_2 \\leq \\arccos (\\frac{1}{3})$ if $\\theta_1 + \\theta_2 \\leq \\pi$ and to $\\theta_1 + \\theta_2 \\geq \\pi + \\arccos (-\\frac{1}{3})$ if $\\pi \\leq \\theta_1 + \\theta_2 \\leq 2*\\pi$"
   ]
  },
  {
   "cell_type": "code",
   "execution_count": 3,
   "id": "experienced-lending",
   "metadata": {},
   "outputs": [],
   "source": [
    "x_pos1, y_pos1 = [], []\n",
    "\n",
    "for theta1 in np.linspace(0, math.acos(1/3), 100):\n",
    "    for theta2 in np.linspace(0, math.acos(1/3) - theta1, 100):\n",
    "        x_pos1.append(math.cos(theta1))\n",
    "        y_pos1.append(math.cos(theta2))\n",
    "\n",
    "x_pos2, y_pos2 = [], []\n",
    "for theta1 in np.linspace(math.acos(-1/3), math.pi, 100):\n",
    "    for theta2 in np.linspace(math.pi + math.acos(-1/3) - theta1, math.pi, 100):\n",
    "        x_pos2.append(math.cos(theta1))\n",
    "        y_pos2.append(math.cos(theta2))"
   ]
  },
  {
   "cell_type": "code",
   "execution_count": 4,
   "id": "stylish-demonstration",
   "metadata": {},
   "outputs": [
    {
     "data": {
      "image/png": "[encoded data removed]",
      "text/plain": [
       "<Figure size 288x288 with 1 Axes>"
      ]
     },
     "metadata": {
      "needs_background": "light"
     },
     "output_type": "display_data"
    }
   ],
   "source": [
    "import seaborn as sns\n",
    "\n",
    "colors = sns.color_palette(\"colorblind\", 8)\n",
    "\n",
    "fig, ax = plt.subplots(figsize=(4, 4))\n",
    "ax.plot(x_neg1, y_neg1, label=\"Negative bin\", color=colors[0])\n",
    "ax.plot(x_neg2, y_neg2, color=colors[0])\n",
    "ax.plot(x_low1, y_low1, label=\"Low bin\", color=colors[1])\n",
    "ax.plot(x_low2, y_low2, color=colors[1])\n",
    "ax.plot(x_low3, y_low3, color=colors[1])\n",
    "ax.plot(x_low4, y_low4, color=colors[1])\n",
    "ax.plot(x_pos1, y_pos1, label=\"Positive bin\", color=colors[2])\n",
    "ax.plot(x_pos2, y_pos2, color=colors[2])\n",
    "ticks = np.round(np.arange(-1, 1.01, 1/3), 2)\n",
    "ticklabels = ['-1', '-2/3', '-1/3', '0', '1/3', '2/3', '1']\n",
    "ax.set_xlim(-1, 1)\n",
    "ax.set_ylim(-1, 1)\n",
    "ax.set_xticks(ticks)\n",
    "ax.set_xticklabels(ticklabels, fontsize=13, rotation=30)\n",
    "ax.set_xlabel(r\"$\\rho(X_1, Y)$\", fontsize=13)\n",
    "ax.set_yticks(ticks)\n",
    "ax.set_yticklabels(ticklabels, fontsize=13)\n",
    "ax.set_ylabel(r\"$\\rho(X_1, Y)$\", fontsize=13)\n",
    "ax.legend(fontsize=13, loc='center')\n",
    "\n",
    "plt.tight_layout()\n",
    "plt.savefig('../../plots/ear-shapes.pdf')\n",
    "plt.savefig('../../plots/ear-shapes.png')\n",
    "plt.show()"
   ]
  }
 ],
 "metadata": {
  "kernelspec": {
   "display_name": "Python 3",
   "language": "python",
   "name": "python3"
  },
  "language_info": {
   "codemirror_mode": {
    "name": "ipython",
    "version": 3
   },
   "file_extension": ".py",
   "mimetype": "text/x-python",
   "name": "python",
   "nbconvert_exporter": "python",
   "pygments_lexer": "ipython3",
   "version": "3.9.1"
  }
 },
 "nbformat": 4,
 "nbformat_minor": 5
}
