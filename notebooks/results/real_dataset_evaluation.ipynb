{
 "cells": [
  {
   "cell_type": "markdown",
   "id": "played-buying",
   "metadata": {},
   "source": [
    "# Real dataset evaluation"
   ]
  },
  {
   "cell_type": "code",
   "execution_count": 1,
   "id": "regulation-album",
   "metadata": {},
   "outputs": [],
   "source": [
    "import matplotlib.pyplot as plt\n",
    "import numpy as np\n",
    "import os\n",
    "import pickle"
   ]
  },
  {
   "cell_type": "code",
   "execution_count": 2,
   "id": "hawaiian-rotation",
   "metadata": {},
   "outputs": [],
   "source": [
    "experiments_dir = '../../experiments/real_dataset_attack'\n",
    "datasets = ['communities_and_crime_v2', 'fifa19_v2', 'musk']\n",
    "seeds = [13315092, 21081788, 26735830, 35788921, 56755036, 56882282, 65682867, 91090292, 93410762, 96319575]\n",
    "nbrs_bins = [3, 5]"
   ]
  },
  {
   "cell_type": "code",
   "execution_count": 3,
   "id": "clinical-sight",
   "metadata": {},
   "outputs": [],
   "source": [
    "def load_results(experiments_dir, dataset, shadow_model_type, meta_model_type, seeds, nbr_bins):\n",
    "    if dataset in [ 'fifa19', 'fifa19_v2' ]:\n",
    "        nbr_data_samples = 2000\n",
    "    else:\n",
    "        nbr_data_samples = 1000\n",
    "    if dataset in ['communities_and_crime_v2', 'fifa19_v2' ]:\n",
    "        test_sizes = '_tts-0.33333_sts-0'\n",
    "    else:\n",
    "        test_sizes = ''\n",
    "    paths = [f'{experiments_dir}/{dataset}/cols-4/nmb-100/sr-{seed}' + \n",
    "             f'_nt-100_ns-5000_nds-{nbr_data_samples}{test_sizes}_ndsbb-100_smt-{shadow_model_type}_mmt-{meta_model_type}' +\n",
    "             f'_nb-{nbr_bins}_sgf--1.pickle' \n",
    "             for seed in seeds]\n",
    "    results = []\n",
    "    for path in paths:\n",
    "        if not os.path.exists(path):\n",
    "            continue\n",
    "        with open(path, 'rb') as f:\n",
    "            result = pickle.load(f)\n",
    "            if shadow_model_type == 'mlptorch' and not result['done']:\n",
    "                continue\n",
    "        results.append(result)\n",
    "    print(f'\\nFound {len(results)} results.')\n",
    "    return results"
   ]
  },
  {
   "cell_type": "code",
   "execution_count": 4,
   "id": "toxic-reform",
   "metadata": {},
   "outputs": [
    {
     "name": "stdout",
     "output_type": "stream",
     "text": [
      "\n",
      "B=3 bins\n",
      "\n",
      "Dataset=communities_and_crime_v2\n",
      "\n",
      "Found 10 results.\n",
      "Accuracy (majority baseline): 0.736 +- 0.027\n",
      "Accuracy (uniform_prior_empirical): 0.736 +- 0.027\n",
      "Accuracy (LR + model_predictions): 0.860 +- 0.036\n",
      "\n",
      "Found 10 results.\n",
      "Accuracy (MLPTorch + model predictions): 0.756 +- 0.040\n",
      "\n",
      "Dataset=fifa19_v2\n",
      "\n",
      "Found 10 results.\n",
      "Accuracy (majority baseline): 0.571 +- 0.044\n",
      "Accuracy (uniform_prior_empirical): 0.602 +- 0.050\n",
      "Accuracy (LR + model_predictions): 0.912 +- 0.036\n",
      "\n",
      "Found 10 results.\n",
      "Accuracy (MLPTorch + model predictions): 0.788 +- 0.045\n",
      "\n",
      "Dataset=musk\n",
      "\n",
      "Found 10 results.\n",
      "Accuracy (majority baseline): 0.678 +- 0.056\n",
      "Accuracy (uniform_prior_empirical): 0.678 +- 0.056\n",
      "Accuracy (LR + model_predictions): 0.820 +- 0.032\n",
      "\n",
      "Found 10 results.\n",
      "Accuracy (MLPTorch + model predictions): 0.563 +- 0.062\n",
      "\n",
      "B=5 bins\n",
      "\n",
      "Dataset=communities_and_crime_v2\n",
      "\n",
      "Found 10 results.\n",
      "Accuracy (majority baseline): 0.551 +- 0.023\n",
      "Accuracy (uniform_prior_empirical): 0.276 +- 0.032\n",
      "Accuracy (LR + model_predictions): 0.706 +- 0.038\n",
      "\n",
      "Found 10 results.\n",
      "Accuracy (MLPTorch + model predictions): 0.560 +- 0.053\n",
      "\n",
      "Dataset=fifa19_v2\n",
      "\n",
      "Found 10 results.\n",
      "Accuracy (majority baseline): 0.412 +- 0.052\n",
      "Accuracy (uniform_prior_empirical): 0.294 +- 0.051\n",
      "Accuracy (LR + model_predictions): 0.791 +- 0.036\n",
      "\n",
      "Found 10 results.\n",
      "Accuracy (MLPTorch + model predictions): 0.612 +- 0.061\n",
      "\n",
      "Dataset=musk\n",
      "\n",
      "Found 10 results.\n",
      "Accuracy (majority baseline): 0.462 +- 0.039\n",
      "Accuracy (uniform_prior_empirical): 0.287 +- 0.045\n",
      "Accuracy (LR + model_predictions): 0.720 +- 0.055\n",
      "\n",
      "Found 10 results.\n",
      "Accuracy (MLPTorch + model predictions): 0.417 +- 0.064\n"
     ]
    }
   ],
   "source": [
    "for nbr_bins in nbrs_bins:\n",
    "    print(f'\\nB={nbr_bins} bins')\n",
    "    for dataset in datasets:\n",
    "        print(f'\\nDataset={dataset}')\n",
    "        logreg_results = load_results(experiments_dir, dataset, 'logreg', 'logreg', seeds, nbr_bins) \n",
    "        # Majority baseline\n",
    "        accs_maj = []\n",
    "        for result in logreg_results:\n",
    "            target_labels = result['target_labels']\n",
    "            count_per_class = np.array([np.sum(target_labels==b) for b in range(nbr_bins)])\n",
    "            accs_maj.append(np.max(count_per_class)/len(target_labels))\n",
    "        print(f'Accuracy (majority baseline): {np.mean(accs_maj):.3f} +- {np.std(accs_maj):.3f}')\n",
    "        for mi, method in enumerate(['uniform_prior_empirical', 'model_predictions']):\n",
    "            accs = [result['accuracy'][method] for result in logreg_results]\n",
    "            if mi == 1:\n",
    "                print(f'Accuracy (LR + {method}): {np.mean(accs):.3f} +- {np.std(accs):.3f}')\n",
    "            else:\n",
    "                print(f'Accuracy ({method}): {np.mean(accs):.3f} +- {np.std(accs):.3f}')   \n",
    "        mlp_results = load_results(experiments_dir, dataset, 'mlptorch', 'mlptorch', seeds, nbr_bins) \n",
    "        accs = [result['accuracy']['model_predictions'] for result in mlp_results]\n",
    "        print(f'Accuracy (MLPTorch + model predictions): {np.mean(accs):.3f} +- {np.std(accs):.3f}')"
   ]
  },
  {
   "cell_type": "markdown",
   "id": "isolated-prescription",
   "metadata": {},
   "source": [
    "## Results for different discretizations of the one-way marginals"
   ]
  },
  {
   "cell_type": "code",
   "execution_count": 5,
   "id": "damaged-functionality",
   "metadata": {},
   "outputs": [],
   "source": [
    "def load_marginal_bins_results(experiments_dir, seeds, nbr_marginal_bins):\n",
    "    paths = [f'{experiments_dir}/fifa19_v2/cols-4/nmb-{nbr_marginal_bins}/sr-{seed}' + \n",
    "             f'_nt-100_ns-5000_nds-2000_tts-0.33333_sts-0_ndsbb-100_smt-logreg_mmt-logreg' +\n",
    "             f'_nb-3_sgf--1.pickle' \n",
    "             for seed in seeds]\n",
    "    results = []\n",
    "    for path in paths:\n",
    "        if not os.path.exists(path):\n",
    "            continue\n",
    "        with open(path, 'rb') as f:\n",
    "            result = pickle.load(f)\n",
    "        results.append(result)\n",
    "    print(f'\\nFound {len(results)} results.')\n",
    "    return results"
   ]
  },
  {
   "cell_type": "code",
   "execution_count": 6,
   "id": "surrounded-nowhere",
   "metadata": {},
   "outputs": [
    {
     "name": "stdout",
     "output_type": "stream",
     "text": [
      "\n",
      "Found 10 results.\n",
      "\n",
      "Found 10 results.\n",
      "\n",
      "Found 10 results.\n",
      "\n",
      "Found 10 results.\n",
      "\n",
      "Found 10 results.\n"
     ]
    }
   ],
   "source": [
    "methods = ['model_predictions', 'uniform_prior_empirical']\n",
    "labels = ['Model-based attack', 'Model-less attack']\n",
    "linestyles = ['-', '-.']\n",
    "markers = ['o', '+']\n",
    "nbrs_marginal_bins = [5, 10, 20, 50, 100]\n",
    "\n",
    "mean_accs = {method: np.zeros(len(nbrs_marginal_bins)) for method in methods}\n",
    "std_accs = {method: np.zeros(len(nbrs_marginal_bins)) for method in methods}\n",
    "\n",
    "for i, nbr_marginal_bins in enumerate(nbrs_marginal_bins):\n",
    "    results = load_marginal_bins_results(experiments_dir, seeds, nbr_marginal_bins)\n",
    "    \n",
    "    for method in methods:\n",
    "        accs = [r['accuracy'][method] for r in results]\n",
    "        mean_accs[method][i] = np.mean(accs)\n",
    "        std_accs[method][i] = np.std(accs)"
   ]
  },
  {
   "cell_type": "code",
   "execution_count": 7,
   "id": "piano-trial",
   "metadata": {},
   "outputs": [
    {
     "name": "stdout",
     "output_type": "stream",
     "text": [
      "model_predictions G=5: 82.9%, G=10: 90.1%, G=20: 90.4%, G=50: 90.9%, G=100: 91.2%\n",
      "uniform_prior_empirical G=5: 60.2%, G=10: 60.2%, G=20: 60.2%, G=50: 60.2%, G=100: 60.2%\n"
     ]
    },
    {
     "data": {
      "image/png": "[encoded data removed]",
      "text/plain": [
       "<Figure size 288x288 with 1 Axes>"
      ]
     },
     "metadata": {
      "needs_background": "light"
     },
     "output_type": "display_data"
    }
   ],
   "source": [
    "fig, ax = plt.subplots(figsize=(4, 4))\n",
    "for i, method in enumerate(methods):\n",
    "    y = mean_accs[method]\n",
    "    y_min, y_max = y - std_accs[method], y + std_accs[method]\n",
    "    ax.plot(nbrs_marginal_bins, y, color='k', marker=markers[i], ls=linestyles[i], label=labels[i])\n",
    "    ax.fill_between(nbrs_marginal_bins, y_min, y_max, color='gray', alpha=0.1)\n",
    "    print(method, ', '.join([f'G={nbrs_marginal_bins[g]}: {y[g]:.1%}' for g in range(len(y))]))\n",
    "ax.axhline(y=1/3, ls=':', color='gray', label='Random baseline')\n",
    "ax.tick_params(axis='both', labelsize=13)\n",
    "ax.set_xscale('log')\n",
    "ax.set_xlim(5, 100)\n",
    "ax.set_xlabel('Number of one-way marginal discretization bins', fontsize=13)\n",
    "ax.set_xticks([5, 10, 20, 50, 100])\n",
    "ax.set_xticklabels(['5', '10', '20', '50', '100'])\n",
    "ax.set_ylim(0, 1)\n",
    "ax.set_ylabel('Accuracy', fontsize=13)\n",
    "ax.set_yticks(np.arange(0, 1.01, 0.1))\n",
    "ax.legend(fontsize=13, frameon=False)\n",
    "plt.tight_layout()\n",
    "plt.savefig('../../plots/incr_nbr_marginal_bins.pdf', bbox_inches='tight')\n",
    "plt.savefig('../../plots/incr_nbr_marginal_bins.png', bbox_inches='tight')\n",
    "plt.show()\n",
    "plt.close()"
   ]
  }
 ],
 "metadata": {
  "kernelspec": {
   "display_name": "Python 3",
   "language": "python",
   "name": "python3"
  },
  "language_info": {
   "codemirror_mode": {
    "name": "ipython",
    "version": 3
   },
   "file_extension": ".py",
   "mimetype": "text/x-python",
   "name": "python",
   "nbconvert_exporter": "python",
   "pygments_lexer": "ipython3",
   "version": "3.9.1"
  }
 },
 "nbformat": 4,
 "nbformat_minor": 5
}
