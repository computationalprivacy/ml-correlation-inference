{
 "cells": [
  {
   "cell_type": "markdown",
   "id": "higher-wholesale",
   "metadata": {},
   "source": [
    "# Impact of the number of samples on the model less attack performance"
   ]
  },
  {
   "cell_type": "code",
   "execution_count": 1,
   "id": "changing-progress",
   "metadata": {},
   "outputs": [],
   "source": [
    "import matplotlib.pyplot as plt\n",
    "import numpy as np\n",
    "import os\n",
    "import pickle as pickle\n",
    "import sys\n",
    "\n",
    "# Use this to load our modules.\n",
    "module_path = os.path.abspath(os.path.join(os.getcwd(), '../..'))\n",
    "if module_path not in sys.path:\n",
    "    sys.path.append(module_path)"
   ]
  },
  {
   "cell_type": "code",
   "execution_count": 2,
   "id": "psychological-leadership",
   "metadata": {},
   "outputs": [],
   "source": [
    "def get_results_randomized_target_attack_model_less_only(nbrs_columns, experiment_path, nbr_samples,\n",
    "                                         constraints_scenario='column'):\n",
    "    print(f'\\nLoading results \\n')\n",
    "    randomized_target_results_paths = [f'{experiment_path}/cols-{nbr_columns}/{constraints_scenario}/' + \\\n",
    "                                       f'nt-1000_nb-3_ns-{nbr_samples}.pickle'\n",
    "                                       for n, nbr_columns in enumerate(nbrs_columns)]\n",
    "    \n",
    "    randomized_target_results = dict()\n",
    "\n",
    "    for n, path in enumerate(randomized_target_results_paths):\n",
    "        if not os.path.exists(path):\n",
    "            print(path)\n",
    "            break\n",
    "        print(f'Found results for {path}...')\n",
    "        with open(path, 'rb') as f:\n",
    "            randomized_target_results[nbrs_columns[n]] = pickle.load(f)\n",
    "    \n",
    "    assert 3 in randomized_target_results, 'ERROR: The results for n=3 columns are not available.'\n",
    "    methods = randomized_target_results[3]['accuracy'].keys()\n",
    "    accuracy = {method: {n: result['accuracy'][method] for n, result in randomized_target_results.items()}\n",
    "                for method in methods}\n",
    "    return accuracy"
   ]
  },
  {
   "cell_type": "code",
   "execution_count": 3,
   "id": "turned-diamond",
   "metadata": {},
   "outputs": [
    {
     "name": "stdout",
     "output_type": "stream",
     "text": [
      "\n",
      "Loading results \n",
      "\n",
      "Found results for ../../experiments/randomized_target_attack_model_less_only/cols-3/column/nt-1000_nb-3_ns-1.pickle...\n",
      "\n",
      "Loading results \n",
      "\n",
      "Found results for ../../experiments/randomized_target_attack_model_less_only/cols-3/column/nt-1000_nb-3_ns-2.pickle...\n",
      "\n",
      "Loading results \n",
      "\n",
      "Found results for ../../experiments/randomized_target_attack_model_less_only/cols-3/column/nt-1000_nb-3_ns-5.pickle...\n",
      "\n",
      "Loading results \n",
      "\n",
      "Found results for ../../experiments/randomized_target_attack_model_less_only/cols-3/column/nt-1000_nb-3_ns-10.pickle...\n",
      "\n",
      "Loading results \n",
      "\n",
      "Found results for ../../experiments/randomized_target_attack_model_less_only/cols-3/column/nt-1000_nb-3_ns-20.pickle...\n",
      "\n",
      "Loading results \n",
      "\n",
      "Found results for ../../experiments/randomized_target_attack_model_less_only/cols-3/column/nt-1000_nb-3_ns-50.pickle...\n",
      "\n",
      "Loading results \n",
      "\n",
      "Found results for ../../experiments/randomized_target_attack_model_less_only/cols-3/column/nt-1000_nb-3_ns-100.pickle...\n",
      "\n",
      "Loading results \n",
      "\n",
      "Found results for ../../experiments/randomized_target_attack_model_less_only/cols-3/column/nt-1000_nb-3_ns-200.pickle...\n",
      "\n",
      "Loading results \n",
      "\n",
      "Found results for ../../experiments/randomized_target_attack_model_less_only/cols-3/column/nt-1000_nb-3_ns-500.pickle...\n",
      "\n",
      "Loading results \n",
      "\n",
      "Found results for ../../experiments/randomized_target_attack_model_less_only/cols-3/column/nt-1000_nb-3_ns-1000.pickle...\n"
     ]
    }
   ],
   "source": [
    "experiment_path = f'../../experiments/randomized_target_attack_model_less_only'\n",
    "nbrs_samples = [1, 2, 5, 10,20,50,100,200,500,1000]\n",
    "nbrs_columns = [3]\n",
    "accuracies = {}\n",
    "for nbr_samples in nbrs_samples:\n",
    "    accuracies[nbr_samples] = get_results_randomized_target_attack_model_less_only(nbrs_columns, experiment_path, nbr_samples,\n",
    "                                         constraints_scenario='column')"
   ]
  },
  {
   "cell_type": "code",
   "execution_count": 4,
   "id": "considerable-education",
   "metadata": {},
   "outputs": [
    {
     "data": {
      "image/png": "[encoded data removed]",
      "text/plain": [
       "<Figure size 324x324 with 1 Axes>"
      ]
     },
     "metadata": {
      "needs_background": "light"
     },
     "output_type": "display_data"
    }
   ],
   "source": [
    "accuracies_by_nbr_samples = {'uniform_prior_empirical':[]}\n",
    "for nbr_samples in nbrs_samples:\n",
    "    accuracies_by_nbr_samples['uniform_prior_empirical'].append(accuracies[nbr_samples]['uniform_prior_empirical'][3])\n",
    "        \n",
    "fig, ax = plt.subplots(1, 1, figsize=(4.5, 4.5))\n",
    "\n",
    "markers = np.array(['+'])\n",
    "linestyles = ['-.']\n",
    "\n",
    "x = [1, 2, 5, 10, 20, 50, 100, 200, 500, 1000]\n",
    "y = accuracies_by_nbr_samples['uniform_prior_empirical'] \n",
    "y_lower, y_upper = [],[]\n",
    "for value in y:\n",
    "    std_error = 1.96*np.sqrt(1/1000*value*(1-value))\n",
    "    y_lower.append(value - std_error)\n",
    "    y_upper.append(value + std_error)\n",
    "ax.plot(x, y, color='k', marker=markers[0], ls=linestyles[0], label='Model-less attack')\n",
    "ax.fill_between(x, y1=y_lower, y2=y_upper, color='gray', alpha=0.1)\n",
    "ax.set_xscale('log')\n",
    "ax.set_xlim(1, 1000)\n",
    "ax.set_ylim(0, 1.01)\n",
    "ax.set_xlabel('Number of samples', fontsize=13)\n",
    "ax.set_ylabel('Accuracy', fontsize=13)\n",
    "yticks = np.arange(0, 1.01, 0.1)\n",
    "ax.set_yticks(yticks)\n",
    "ax.set_yticklabels([f'{t:.1f}' for t in yticks], fontsize=13)\n",
    "ax.tick_params(axis = 'both', labelsize = 13)\n",
    "ax.legend(fontsize=13)\n",
    "\n",
    "plt.tight_layout()\n",
    "plt.savefig(f'../../plots/model_less_analysis_samples.pdf', bbox_inches='tight')\n",
    "plt.savefig(f'../../plots/model_less_analysis_samples.png', bbox_inches='tight')\n",
    "plt.show()"
   ]
  }
 ],
 "metadata": {
  "kernelspec": {
   "display_name": "Python 3",
   "language": "python",
   "name": "python3"
  },
  "language_info": {
   "codemirror_mode": {
    "name": "ipython",
    "version": 3
   },
   "file_extension": ".py",
   "mimetype": "text/x-python",
   "name": "python",
   "nbconvert_exporter": "python",
   "pygments_lexer": "ipython3",
   "version": "3.9.1"
  }
 },
 "nbformat": 4,
 "nbformat_minor": 5
}
