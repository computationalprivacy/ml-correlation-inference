{
 "cells": [
  {
   "cell_type": "markdown",
   "id": "medical-domain",
   "metadata": {},
   "source": [
    "# Results of the attribute inference attacks\n",
    "\n",
    "## 1 - Load the results"
   ]
  },
  {
   "cell_type": "code",
   "execution_count": 1,
   "id": "fixed-cliff",
   "metadata": {},
   "outputs": [],
   "source": [
    "from collections import defaultdict\n",
    "import matplotlib.pyplot as plt\n",
    "import numpy as np\n",
    "import os\n",
    "import pickle\n",
    "from sklearn.metrics import accuracy_score\n",
    "import sys\n",
    "\n",
    "# Use this to load our modules.\n",
    "module_path = os.path.abspath(os.path.join(os.getcwd(), '../..'))\n",
    "if module_path not in sys.path:\n",
    "    sys.path.append(module_path)\n",
    "    \n",
    "from src.helpers.utils import get_labels"
   ]
  },
  {
   "cell_type": "code",
   "execution_count": 2,
   "id": "fourth-official",
   "metadata": {},
   "outputs": [],
   "source": [
    "nbr_targets = 1000\n",
    "experiments_dir = '../../experiments/aia'\n",
    "dataset_names = ['fifa19_v2']\n",
    "attack_methods = ['cia_aia_model_based', \n",
    "                  'cia_aia_model_less', \n",
    "                  'copula_base', \n",
    "                  'csmia', \n",
    "                  'fredrikson', \n",
    "                  'yeom', \n",
    "                  'cai', \n",
    "                  'wcai', \n",
    "                  'marginal_prior', \n",
    "                  'cia_synth_wcai_v1', \n",
    "                  'cia_synth_wcai_v2',\n",
    "                  'cia_synth_wcai_v3', \n",
    "                  'cia_synth_wcai_v4',\n",
    "                 ]"
   ]
  },
  {
   "cell_type": "markdown",
   "id": "assured-lebanon",
   "metadata": {},
   "source": [
    "Load the attribute inference attack results (including the target correlation matrices)."
   ]
  },
  {
   "cell_type": "code",
   "execution_count": 3,
   "id": "awful-worth",
   "metadata": {},
   "outputs": [],
   "source": [
    "def load_aia_results(experiments_dir, attack_method, nbr_targets, dataset_name='fifa19_v2'):\n",
    "    if dataset_name in [ 'fifa19', 'fifa19_v2' ]:\n",
    "        nbr_data_samples = 2000\n",
    "    else:\n",
    "        nbr_data_samples = 1000\n",
    "    results_path = f'{experiments_dir}/{dataset_name}/cols-4/smt-logreg_mmt-logreg/nt-{nbr_targets}/65682867/' + \\\n",
    "        f'results_{attack_method}_ntr-500_ns-5000_nds-{nbr_data_samples}_ndsbb-100_nb-3.pickle'\n",
    "    with open(results_path, 'rb') as f:\n",
    "        results = pickle.load(f)\n",
    "    return results\n",
    "\n",
    "attack_results = {dataset_name: \n",
    "                  {attack_method: load_aia_results(experiments_dir, attack_method, nbr_targets, dataset_name)\n",
    "                  for attack_method in attack_methods} \n",
    "                 for dataset_name in dataset_names}"
   ]
  },
  {
   "cell_type": "code",
   "execution_count": 4,
   "id": "acceptable-magazine",
   "metadata": {},
   "outputs": [
    {
     "name": "stdout",
     "output_type": "stream",
     "text": [
      "dict_keys(['cia_aia_model_based', 'cia_aia_model_less', 'copula_base', 'csmia', 'fredrikson', 'yeom', 'cai', 'wcai', 'marginal_prior', 'cia_synth_wcai_v1', 'cia_synth_wcai_v2', 'cia_synth_wcai_v3', 'cia_synth_wcai_v4'])\n",
      "dict_keys(['X_cols', 'univariates', 'mse', 'X1_true', 'X1_pred', 'quantiles', 'binned_X1_true', 'binned_X1_pred', 'accs', 'target_correlation_matrices'])\n",
      "1000\n"
     ]
    }
   ],
   "source": [
    "print(attack_results['fifa19_v2'].keys())\n",
    "print(attack_results['fifa19_v2']['copula_base'].keys())\n",
    "print(len(attack_results['fifa19_v2']['cia_aia_model_based']['accs']))"
   ]
  },
  {
   "cell_type": "markdown",
   "id": "missing-crack",
   "metadata": {},
   "source": [
    "## 2 - Comparison between different methods\n",
    "\n",
    "### Accuracy"
   ]
  },
  {
   "cell_type": "code",
   "execution_count": 5,
   "id": "undefined-sessions",
   "metadata": {},
   "outputs": [
    {
     "name": "stdout",
     "output_type": "stream",
     "text": [
      "Dataset=fifa19_v2\n",
      "\tAttack method=cia_aia_model_based: mean and std 49.7%+-15.8%, 95% ci= error 1.0%\n",
      "\tAttack method=cia_aia_model_less: mean and std 38.6%+-13.6%, 95% ci= error 0.8%\n",
      "\tAttack method=copula_base: mean and std 41.8%+-14.3%, 95% ci= error 0.9%\n",
      "\tAttack method=csmia: mean and std 46.5%+-14.4%, 95% ci= error 0.9%\n",
      "\tAttack method=fredrikson: mean and std 38.4%+-12.4%, 95% ci= error 0.8%\n",
      "\tAttack method=yeom: mean and std 38.5%+-12.2%, 95% ci= error 0.8%\n",
      "\tAttack method=cai: mean and std 46.5%+-14.4%, 95% ci= error 0.9%\n",
      "\tAttack method=wcai: mean and std 41.7%+-13.2%, 95% ci= error 0.8%\n",
      "\tAttack method=marginal_prior: mean and std 35.3%+-10.4%, 95% ci= error 0.6%\n",
      "\tAttack method=cia_synth_wcai_v1: mean and std 46.7%+-15.6%, 95% ci= error 1.0%\n",
      "\tAttack method=cia_synth_wcai_v2: mean and std 49.5%+-15.6%, 95% ci= error 1.0%\n",
      "\tAttack method=cia_synth_wcai_v3: mean and std 49.8%+-15.4%, 95% ci= error 1.0%\n",
      "\tAttack method=cia_synth_wcai_v4: mean and std 50.5%+-14.2%, 95% ci= error 0.9%\n"
     ]
    }
   ],
   "source": [
    "import scipy.stats as st\n",
    "\n",
    "for dataset_name in dataset_names:\n",
    "    print(f'Dataset={dataset_name}')\n",
    "    for attack_method in attack_methods:\n",
    "        accs = attack_results[dataset_name][attack_method]['accs']\n",
    "        mean_acc, std_acc = np.mean(accs), np.std(accs)\n",
    "        a, b = st.t.interval(alpha=0.95, df=len(accs)-1, loc=np.mean(accs), scale=st.sem(accs))\n",
    "        ci_error = mean_acc-a\n",
    "        print(f'\\tAttack method={attack_method}: mean and std {mean_acc:.1%}+-{std_acc:.1%}, 95% ci= error {ci_error:.1%}')"
   ]
  }
 ],
 "metadata": {
  "kernelspec": {
   "display_name": "Python 3",
   "language": "python",
   "name": "python3"
  },
  "language_info": {
   "codemirror_mode": {
    "name": "ipython",
    "version": 3
   },
   "file_extension": ".py",
   "mimetype": "text/x-python",
   "name": "python",
   "nbconvert_exporter": "python",
   "pygments_lexer": "ipython3",
   "version": "3.9.1"
  }
 },
 "nbformat": 4,
 "nbformat_minor": 5
}
